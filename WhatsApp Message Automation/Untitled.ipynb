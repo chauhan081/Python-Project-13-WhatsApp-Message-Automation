{
 "cells": [
  {
   "cell_type": "code",
   "execution_count": null,
   "id": "92aa07f9-0024-4a4a-a4e8-776a01813145",
   "metadata": {},
   "outputs": [],
   "source": [
    "!pip install pywhatkit\n",
    "import pywhatkit\n",
    "\n",
    "#Send message at a specific time\n",
    "pywhatkit.sendwhatmsg(\"+911262821818\", \"Hello! This is an automated message.\", 19, 53)"
   ]
  },
  {
   "cell_type": "code",
   "execution_count": null,
   "id": "e1d219cd-416e-4c48-a160-a43c8a4ca338",
   "metadata": {},
   "outputs": [],
   "source": []
  }
 ],
 "metadata": {
  "kernelspec": {
   "display_name": "Python 3 (ipykernel)",
   "language": "python",
   "name": "python3"
  },
  "language_info": {
   "codemirror_mode": {
    "name": "ipython",
    "version": 3
   },
   "file_extension": ".py",
   "mimetype": "text/x-python",
   "name": "python",
   "nbconvert_exporter": "python",
   "pygments_lexer": "ipython3",
   "version": "3.13.5"
  }
 },
 "nbformat": 4,
 "nbformat_minor": 5
}
